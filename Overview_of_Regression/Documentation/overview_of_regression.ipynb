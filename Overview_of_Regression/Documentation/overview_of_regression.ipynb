{
  "nbformat": 4,
  "nbformat_minor": 2,
  "metadata": {
    "colab": {
      "name": "Overview_of_regression.ipynb",
      "provenance": []
    },
    "kernelspec": {
      "name": "python3",
      "display_name": "Python 3.9.2 64-bit"
    },
    "language_info": {
      "name": "python",
      "version": "3.9.2",
      "mimetype": "text/x-python",
      "codemirror_mode": {
        "name": "ipython",
        "version": 3
      },
      "pygments_lexer": "ipython3",
      "nbconvert_exporter": "python",
      "file_extension": ".py"
    },
    "interpreter": {
      "hash": "216e333e888904ba5b259a6fd107b056d501c561085a2f0a97f72454058bd35b"
    }
  },
  "cells": [
    {
      "cell_type": "markdown",
      "source": [
        "#REGRESSION\r\n",
        "\r\n",
        "**Regression analysis** is a fundamental concept in the field of machine learning. It falls under supervised learning wherein the algorithm is trained with both input features and output labels. It helps in establishing a relationship among the variables by estimating how one variable affects the other.\r\n",
        "\r\n",
        "\r\n",
        "Example: Suppose there is a marketing company A, who does various advertisement every year and get sales on that. The below list shows the advertisement made by the company in the last 5 years and the corresponding sales:\r\n",
        "\r\n",
        "\r\n",
        "![image](images\\regression-analysis-in-machine-learning.png)\r\n",
        "\r\n",
        "Now, the company wants to do the advertisement of $200 in the year 2019 and wants to know the prediction about the sales for this year. So to solve such type of prediction problems in machine learning, we need regression analysis."
      ],
      "metadata": {
        "id": "EDitLoe_iWks"
      }
    },
    {
      "cell_type": "markdown",
      "source": [
        "**Regression** is a supervised learning technique which helps in finding the correlation between variables and enables us to predict the continuous output variable based on the one or more predictor variables. It is mainly used for prediction, forecasting, time series modeling, and determining the causal-effect relationship between variables.\r\n",
        "\r\n",
        "In Regression, we plot a graph between the variables which best fits the given datapoints, using this plot, the machine learning model can make predictions about the data. In simple words, \"Regression shows a line or curve that passes through all the datapoints on target-predictor graph in such a way that the vertical distance between the datapoints and the regression line is minimum.\" The distance between datapoints and line tells whether a model has captured a strong relationship or not.\r\n",
        "\r\n",
        "Some examples of regression can be as:\r\n",
        "\r\n",
        "- Prediction of rain using temperature and other factors\r\n",
        "\r\n",
        "- Determining Market trends\r\n",
        "\r\n",
        "- Prediction of road accidents due to rash driving.\r\n",
        "\r\n",
        "##Evaluating a Regression\r\n",
        "Let’s say you’ve developed an algorithm which predicts next week's temperature. The temperature to be predicted depends on different properties such as humidity, atmospheric pressure, air temperature and wind speed. But how accurate are your predictions? How good is your algorithm?\r\n",
        "\r\n",
        "To evaluate your predictions, there are two important metrics to be considered: variance and bias.\r\n",
        "\r\n",
        "###Variance\r\n",
        "\r\n",
        "Variance is the amount by which the estimate of the target function changes if different training data were used. The target function $f$ establishes the relation between the input (properties) and the output variables (predicted temperature). When a different dataset is used the target function needs to remain stable with little variance because, for any given type of data, the model should be generic. In this case, the predicted temperature changes based on the variations in the training dataset. To avoid false predictions, we need to make sure the variance is low. For that reason, the model should be generalized to accept unseen features of temperature data and produce better predictions.\r\n",
        "\r\n",
        "###Bias\r\n",
        "\r\n",
        "Bias is the algorithm’s tendency to consistently learn the wrong thing by not taking into account all the information in the data. For the model to be accurate, bias needs to be low. If there are inconsistencies in the dataset like missing values, less number of data tuples or errors in the input data, the bias will be high and the predicted temperature will be wrong.\r\n",
        "\r\n",
        "For a model to be ideal, it’s expected to have low variance, low bias and low error. To achieve this, we need to partition the dataset into train and test datasets. The model will then learn patterns from the training dataset and the performance will be evaluated on the test dataset. If the model memorizes/mimics the training data fed to it, rather than finding patterns, it will give false predictions on unseen data. The curve derived from the trained model would then pass through all the data points and the accuracy on the test dataset is low. This is called overfitting and is caused by high variance. \r\n",
        "On the flip side, if the model performs well on the test data but with low accuracy on the training data, then this leads to underfitting.\r\n",
        "\r\n",
        "![bias](images/underfitting.png)\r\n",
        "\r\n",
        "\r\n",
        "There are various algorithms that are used to build a regression model, some work well under certain constraints and some don’t.\r\n"
      ],
      "metadata": {
        "id": "govNeXfuh9XZ"
      }
    },
    {
      "cell_type": "markdown",
      "source": [
        "#LINEAR REGRESSION\r\n",
        "\r\n",
        "Linear regression finds the linear relationship between the dependent variable and one or more independent variables using a best-fit straight line. Generally, a linear model makes a prediction by simply computing a weighted sum of the input features, plus a constant called the bias term (also called the intercept term). In this technique, the dependent variable is continuous, the independent variable(s) can be continuous or discrete, and the nature of the regression line is linear. Mathematically, the prediction using linear regression is given as:\r\n",
        "\r\n",
        "$$y = \\theta_0 + \\theta_1x_1 + \\theta_2x_2 + … + \\theta_nx_n$$\r\n",
        "\r\n",
        "Here, $y$ is the predicted value,\r\n",
        "\r\n",
        "$n$ is the total number of input features,\r\n",
        "\r\n",
        "$x_i$ is the input feature for $i^{th}$ value, \r\n",
        "\r\n",
        "$\\theta_i$ is the model parameter ($\\theta_0$ is the bias and the coefficients are $\\theta_1, \\theta_2, … \\theta_n$).\r\n",
        "\r\n",
        "The coefficient is like a volume knob, it varies according to the corresponding input attribute, which brings change in the final value. It signifies the contribution of the input variables in determining the best-fit line. \r\n",
        "\r\n",
        "Bias is a deviation induced to the line equation $y = mx$ for the predictions we make. We need to tune the bias to vary the position of the line that can fit best for the given data. \r\n",
        "\r\n",
        "![linreg](images\\linear.jpeg)\r\n",
        "\r\n",
        "- Linear regression shows the linear relationship between the independent variable (X-axis) and the dependent variable (Y-axis), hence called linear regression.\r\n",
        "- If there is only one input variable (x), then such linear regression is called simple linear regression. And if there is more than one input variable, then such linear regression is called multiple linear regression.\r\n",
        "- The relationship between variables in the linear regression model can be explained using the below image. Here we are predicting the salary of an employee on the basis of the year of experience."
      ],
      "metadata": {
        "id": "WvRDtI_Mtu_d"
      }
    },
    {
      "cell_type": "markdown",
      "source": [
        "##Least Squares Method\r\n",
        "\r\n",
        "First, calculate the error/loss by subtracting the actual value from the predicted one. Since the predicted values can be on either side of the line, we square the difference to make it a positive value. The result is denoted by ‘Q’, which is known as the sum of squared errors.\r\n",
        "\r\n",
        "Mathematically:\r\n",
        "\r\n",
        "$$Q =\\sum_{i=1}^{n}(y_{predicted}-y_{original} )^2$$\r\n",
        "\r\n",
        "Our goal is to minimize the error function ‘Q.\" To get to that, we differentiate Q w.r.t ‘m’ and ‘c’ and equate it to zero. After a few mathematical derivations  ‘m’ will be \r\n",
        "\r\n",
        "$$m = \\frac{cov(x,y)}{var(x)}$$ \r\n",
        "\r\n",
        "And ‘c’ will be,\r\n",
        "\r\n",
        "$$c = y^{-} - bx^{-}$$\r\n",
        "\r\n",
        "By plugging the above values into the linear equation, we get the best-fit line.\r\n"
      ],
      "metadata": {
        "id": "U-mxrOeDtcoV"
      }
    },
    {
      "cell_type": "markdown",
      "source": [
        "##Gradient Descent\r\n",
        "\r\n",
        "Gradient descent is an optimization technique used to tune the coefficient and bias of a linear equation.\r\n",
        "\r\n",
        "Imagine you are on the top left of a u-shaped cliff and moving blind-folded towards the bottom center. You take small steps in the direction of the steepest slope. This is what gradient descent does — it is the derivative or the tangential line to a function that attempts to find local minima of a function.\r\n",
        "We take steps down the cost function in the direction of the steepest descent until we reach the minima, which in this case is the downhill. The size of each step is determined by the parameter $\\alpha$, called learning rate. If it's too big, the model might miss the local minimum of the function, and if it's too small, the model will take a long time to converge. Hence, $\\alpha$ provides the basis for finding the local minimum, which helps in finding the minimized cost function.\r\n",
        "\r\n",
        "‘Q’ the cost function is differentiated w.r.t the parameters, $m$ and $c$ to arrive at the updated $m$ and $c$, respectively. The product of the differentiated value and learning rate is subtracted from the actual ones to minimize the parameters affecting the model.\r\n",
        "\r\n",
        "Mathematically, this is how parameters are updated using the gradient descent algorithm:\r\n",
        "\r\n",
        "$$m = m - \\alpha\\frac{d}{dm}Q$$ \r\n",
        "\r\n",
        "$$c = c - \\alpha\\frac{d}{dc}Q$$ \r\n",
        "\r\n",
        "where $Q =\\sum_{i=1}^{n}(y_{predicted}-y_{original} )^2$.\r\n",
        "\r\n",
        "This continues until the error is minimized."
      ],
      "metadata": {
        "id": "E8IZ9FbqMj7d"
      }
    },
    {
      "cell_type": "markdown",
      "source": [
        "##Example\r\n",
        "\r\n",
        "The example below uses only the first feature of the diabetes dataset, in order to illustrate the data points within the two-dimensional plot. The straight line can be seen in the plot, showing how linear regression attempts to draw a straight line that will best minimize the residual sum of squares between the observed responses in the dataset, and the responses predicted by the linear approximation.\r\n",
        "\r\n",
        "The coefficients, residual sum of squares and the coefficient of determination are also calculated.\r\n",
        "The library used for linear regression is **sklearn**."
      ],
      "metadata": {
        "id": "2tGOVPy_M8Ew"
      }
    },
    {
      "cell_type": "code",
      "execution_count": 1,
      "source": [
        "print(__doc__)\r\n",
        "\r\n",
        "\r\n",
        "# Code source: Jaques Grobler\r\n",
        "# License: BSD 3 clause\r\n",
        "\r\n",
        "\r\n",
        "import matplotlib.pyplot as plt\r\n",
        "import numpy as np\r\n",
        "from sklearn import datasets, linear_model\r\n",
        "from sklearn.metrics import mean_squared_error, r2_score\r\n",
        "\r\n",
        "# Load the diabetes dataset\r\n",
        "diabetes_X, diabetes_y = datasets.load_diabetes(return_X_y=True)\r\n",
        "\r\n",
        "# Use only one feature\r\n",
        "diabetes_X = diabetes_X[:, np.newaxis, 2]\r\n",
        "\r\n",
        "# Split the data into training/testing sets\r\n",
        "diabetes_X_train = diabetes_X[:-20]\r\n",
        "diabetes_X_test = diabetes_X[-20:]\r\n",
        "\r\n",
        "# Split the targets into training/testing sets\r\n",
        "diabetes_y_train = diabetes_y[:-20]\r\n",
        "diabetes_y_test = diabetes_y[-20:]\r\n",
        "\r\n",
        "# Create linear regression object\r\n",
        "regr = linear_model.LinearRegression()\r\n",
        "\r\n",
        "# Train the model using the training sets\r\n",
        "regr.fit(diabetes_X_train, diabetes_y_train)\r\n",
        "\r\n",
        "# Make predictions using the testing set\r\n",
        "diabetes_y_pred = regr.predict(diabetes_X_test)\r\n",
        "\r\n",
        "# The coefficients\r\n",
        "print('Coefficients: \\n', regr.coef_)\r\n",
        "# The mean squared error\r\n",
        "print('Mean squared error: %.2f'\r\n",
        "      % mean_squared_error(diabetes_y_test, diabetes_y_pred))\r\n",
        "# The coefficient of determination: 1 is perfect prediction\r\n",
        "print('Coefficient of determination: %.2f'\r\n",
        "      % r2_score(diabetes_y_test, diabetes_y_pred))\r\n",
        "\r\n",
        "# Plot outputs\r\n",
        "plt.scatter(diabetes_X_test, diabetes_y_test,  color='black')\r\n",
        "plt.plot(diabetes_X_test, diabetes_y_pred, color='blue', linewidth=3)\r\n",
        "\r\n",
        "plt.xticks(())\r\n",
        "plt.yticks(())\r\n",
        "\r\n",
        "plt.show()"
      ],
      "outputs": [
        {
          "output_type": "stream",
          "name": "stdout",
          "text": [
            "Automatically created module for IPython interactive environment\n",
            "Coefficients: \n",
            " [938.23786125]\n",
            "Mean squared error: 2548.07\n",
            "Coefficient of determination: 0.47\n"
          ]
        },
        {
          "output_type": "display_data",
          "data": {
            "image/png": "[encoded data removed]",
            "text/plain": [
              "<Figure size 432x288 with 1 Axes>"
            ]
          },
          "metadata": {}
        }
      ],
      "metadata": {
        "colab": {
          "base_uri": "https://localhost:8080/",
          "height": 337
        },
        "id": "5KJth-4WNpPc",
        "outputId": "20245ecc-4659-4b16-b724-3d578c8528e9"
      }
    },
    {
      "cell_type": "markdown",
      "source": [
        "#POLYNOMIAL REGRESSION\r\n",
        "\r\n",
        "Polynomial regression is a special case of linear regression where we fit a polynomial equation on the data with a curvilinear relationship between the target variable and the independent variables.\r\n",
        "- It is similar to multiple linear regression, but it fits a non-linear curve between the value of x and corresponding conditional values of y.\r\n",
        "- Suppose there is a dataset which consists of datapoints which are present in a non-linear fashion, so for such case, linear regression will not best fit to those datapoints. To cover such datapoints, we need Polynomial regression.\r\n",
        "- In Polynomial regression, the original features are transformed into polynomial features of given degree and then modeled using a linear model. Which means the datapoints are best fitted using a polynomial line.\r\n",
        "\r\n",
        "$$Y_{0} = b_{0}+ b_{1}x^{1} + … b_{n}x^{n}$$\r\n",
        "\r\n",
        "where $Y_{0}$ is the predicted value for the polynomial model with regression coefficients $b_{1}$ to $b_{n}$ for each degree and a bias of $b_{0}$.\r\n",
        "\r\n",
        "If n=1, the polynomial equation is said to be a linear equation.\r\n",
        "\r\n",
        "![pol](images\\pr7.png)"
      ],
      "metadata": {
        "id": "PtRSHlcqVFYC"
      }
    }
  ]
}